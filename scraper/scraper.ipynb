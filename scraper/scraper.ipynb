{
 "cells": [
  {
   "cell_type": "code",
   "execution_count": null,
   "metadata": {},
   "outputs": [],
   "source": [
    "import requests\n",
    "from bs4 import BeautifulSoup\n",
    "\n",
    "r = requests.get(\"https://www.ptt.cc/bbs/MobileComm/index.html\") #將網頁資料GET下來\n",
    "soup = BeautifulSoup(r.text,\"html.parser\") #將網頁資料以html.parser\n",
    "print(soup)\n",
    "sel = soup.select(\"div.title a\") #取HTML標中的 <div class=\"title\"></div> 中的<a>標籤存入sel\n",
    "for s in sel:\n",
    "    print(s[\"href\"], s.text) "
   ]
  },
  {
   "cell_type": "code",
   "execution_count": null,
   "metadata": {},
   "outputs": [],
   "source": [
    "import requests\n",
    "import time\n",
    "from bs4 import BeautifulSoup\n",
    "url=[]\n",
    "for i in range(50):\n",
    "    if i % 10 == 0 :\n",
    "        time.sleep(10);\n",
    "    r = requests.get(\"https://btsow.sbs/search/明日花綺羅/page/\"+str(i)) #將此頁面的HTML GET下來\n",
    "    soup = BeautifulSoup(r.text,\"html.parser\") #將網頁資料以html.parser\n",
    "\n",
    "    for a in soup.find_all('a', href=True):    \n",
    "        if a.get_text(strip=True):\n",
    "            m=a['href']      \n",
    "            if 'hash' in m:\n",
    "                a = m.find('/hash/')            \n",
    "                url.append(\"magnet:?xt=urn:btih:\"+m[a+6:a+47])\n",
    "print(url)\n"
   ]
  },
  {
   "cell_type": "code",
   "execution_count": null,
   "metadata": {},
   "outputs": [],
   "source": [
    "import requests\n",
    "import time\n",
    "from bs4 import BeautifulSoup\n",
    "url=[]\n",
    "# for i in range(50):\n",
    "#     if i % 10 == 0 :\n",
    "#         time.sleep(10);\n",
    "#     r = requests.get(\"https://btsow.sbs/search/FC2PPV/page/\"+str(i)) #將此頁面的HTML GET下來\n",
    "r = requests.get(\"https://btsow.sbs/search/FC2PPV\") #將此頁面的HTML GET下來\n",
    "soup = BeautifulSoup(r.text,\"html.parser\") #將網頁資料以html.parser\n",
    "\n",
    "for a in soup.find_all('a', href=True):\n",
    "    if a.get_text(strip=True):\n",
    "        m=a['href']      \n",
    "        if 'hash' in m:\n",
    "            a = m.find('/hash/')            \n",
    "            url.append(\"magnet:?xt=urn:btih:\"+m[a+5:-1])\n",
    "print(url)\n"
   ]
  }
 ],
 "metadata": {
  "kernelspec": {
   "display_name": "Python 3.10.8 64-bit",
   "language": "python",
   "name": "python3"
  },
  "language_info": {
   "codemirror_mode": {
    "name": "ipython",
    "version": 3
   },
   "file_extension": ".py",
   "mimetype": "text/x-python",
   "name": "python",
   "nbconvert_exporter": "python",
   "pygments_lexer": "ipython3",
   "version": "3.10.8"
  },
  "orig_nbformat": 4,
  "vscode": {
   "interpreter": {
    "hash": "369f2c481f4da34e4445cda3fffd2e751bd1c4d706f27375911949ba6bb62e1c"
   }
  }
 },
 "nbformat": 4,
 "nbformat_minor": 2
}
